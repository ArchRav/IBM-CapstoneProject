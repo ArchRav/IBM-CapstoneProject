{
 "cells": [
  {
   "cell_type": "markdown",
   "metadata": {},
   "source": [
    "# Exploring Neighbourhoods of Munich,Germany using Foursquare API & Openweathermap API"
   ]
  },
  {
   "cell_type": "markdown",
   "metadata": {},
   "source": [
    "### Introduction"
   ]
  },
  {
   "cell_type": "markdown",
   "metadata": {},
   "source": [
    "In the Year 2020, I am planned to relocate to Germany – Munich from Calicut – India. With this transition , it is required to understand the locality of Munich and its various Boroughs and subconsciously compare them with my Hometown of Calicut in India in terms of venues and weather conditions.\n",
    "\n",
    "It would be beneficial and nice to have a platform which could make easy by considering a comparative analysis between the top 5 neighbourhoods and its comparison with Hometown of Calicut in India with provided factors.\n"
   ]
  },
  {
   "cell_type": "markdown",
   "metadata": {},
   "source": [
    "<b>Munich</b> is the capital and most populous city of Bavaria the second most populous German State with a population of around 1.5 million, it is the third-largest city in Germany, after Berlin and Hamburg. Munich is is divided into <b> 25 </b> boroughs or Stadtbezirke. The primary language of communication is German.\n",
    "\n",
    "<b>To explore this information, this project involves the usage of both the Foursquare API and the Openweathermap API </b>to fetch complete information of various venues (including name, address, category, weather, population estimates). Further, a map of the venues with specific color attributes will be plotted to highlight their position, and information about these venues. Such plots imbibe bountiful information in the form of their colored representations and location on the map. \n"
   ]
  },
  {
   "cell_type": "markdown",
   "metadata": {},
   "source": [
    "This project helps the end user or the stakeholder to achieve the results which will not only recommend but also saves a lot of time in manual search. This will indeed save the time and money of the user.</r>"
   ]
  },
  {
   "cell_type": "markdown",
   "metadata": {},
   "source": [
    "### Target/Interested Audience"
   ]
  },
  {
   "cell_type": "markdown",
   "metadata": {},
   "source": [
    "•\tAnyone who would be visiting or relocating to Munich in Germany\n",
    "\n",
    "•\tAnyone looking to expand their business or wants to setup a new business in Munich and confused in which Borough/Neighborhood is the best\n"
   ]
  },
  {
   "cell_type": "markdown",
   "metadata": {},
   "source": [
    "### Data"
   ]
  },
  {
   "cell_type": "markdown",
   "metadata": {},
   "source": [
    "To get location and other information about various venues in Munich, I used two APIs - Foursquare and Openweather map and decided to combine the data from both of them together.\n",
    "\n",
    "The <b>Foursquare API </b>has a database of more than 105 million places. This project would use Four-square API as its prime data gathering source.Using the Foursquare’s explore API (which gives venues recommendations), I fetched venues up to a certain range from the center of Munich and collected their names,categories and locations (latitude and longitude).\n",
    "\n",
    "HTTP requests would be made to this Foursquare API server using Borough names of the Munich city to pull the location information (Latitude and Longitude).Foursquare API search feature would be enabled to collect the nearby places of the neighborhoods. Due to http request limitations the number of places per neighborhood parameter would reasonably be set to <b>100</b> and the radius parameter would be set to <b>700</b>\n",
    "\n",
    "Using the name, latitude and longitude values, I used the <b> Openweathermap search API </b>to fetch weather details from its database. This API allows to find the weather,humidity,wind details based on search criteria (usually the name),latitude and longitude values.\n"
   ]
  },
  {
   "cell_type": "markdown",
   "metadata": {},
   "source": [
    "• <b>Folium </b>- Python visualization library would be used to visualize the neighborhoods cluster distribution of Munich city over an interactive leaflet map.Extensive comparative analysis of two randomly picked neighborhoods world be carried out to derive the desirable insights from the outcomes using python’s scientific libraries Pandas, NumPy and Scikit-learn.\n",
    "\n",
    "• Unsupervised machine learning algorithm <b>K-mean clustering</b> would be applied to form the clusters of different categories of places residing in and around the neighborhoods. These clusters from each of those two chosen neighborhoods would be analyzed individually collectively and comparatively to derive the conclusions."
   ]
  },
  {
   "cell_type": "markdown",
   "metadata": {},
   "source": [
    "### Python Packages "
   ]
  },
  {
   "cell_type": "markdown",
   "metadata": {},
   "source": [
    "• Pandas - Library for Data Analysis  \n",
    "• NumPy – Library to handle data in a vectorized manner  \n",
    "• JSON – Library to handle JSON files   \n",
    "• Geopy – To retrieve Location Data  \n",
    "• Requests – Library to handle http requests  \n",
    "• Matplotlib – Python Plotting Module   \n",
    "• Sklearn – Python machine learning Library   \n",
    "• Folium – Map rendering Library"
   ]
  },
  {
   "cell_type": "code",
   "execution_count": null,
   "metadata": {},
   "outputs": [],
   "source": []
  }
 ],
 "metadata": {
  "kernelspec": {
   "display_name": "Python 3",
   "language": "python",
   "name": "python3"
  },
  "language_info": {
   "codemirror_mode": {
    "name": "ipython",
    "version": 3
   },
   "file_extension": ".py",
   "mimetype": "text/x-python",
   "name": "python",
   "nbconvert_exporter": "python",
   "pygments_lexer": "ipython3",
   "version": "3.7.3"
  }
 },
 "nbformat": 4,
 "nbformat_minor": 2
}
